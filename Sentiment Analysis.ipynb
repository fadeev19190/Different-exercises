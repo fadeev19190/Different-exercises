{
 "cells": [
  {
   "cell_type": "code",
   "execution_count": 44,
   "id": "4fde7320",
   "metadata": {},
   "outputs": [
    {
     "name": "stdout",
     "output_type": "stream",
     "text": [
      "0.014583333333333334\n"
     ]
    }
   ],
   "source": [
    "from newspaper import Article\n",
    "from textblob import TextBlob\n",
    "\n",
    "url = 'https://www.thetimes.co.uk/article/whats-next-for-putin-after-death-of-yevgeny-prigozhin-9dpnsx0gd'\n",
    "\n",
    "article = Article(url)\n",
    "\n",
    "article.download()\n",
    "article.parse()\n",
    "article.nlp()\n",
    "\n",
    "text = article.summary\n",
    "\n",
    "blob = TextBlob(text)\n",
    "\n",
    "sentiment = blob.sentiment.polarity\n",
    "\n",
    "print(sentiment)"
   ]
  },
  {
   "cell_type": "code",
   "execution_count": null,
   "id": "118f461b",
   "metadata": {},
   "outputs": [],
   "source": []
  },
  {
   "cell_type": "code",
   "execution_count": null,
   "id": "a864d492",
   "metadata": {},
   "outputs": [],
   "source": []
  }
 ],
 "metadata": {
  "kernelspec": {
   "display_name": "Python 3 (ipykernel)",
   "language": "python",
   "name": "python3"
  },
  "language_info": {
   "codemirror_mode": {
    "name": "ipython",
    "version": 3
   },
   "file_extension": ".py",
   "mimetype": "text/x-python",
   "name": "python",
   "nbconvert_exporter": "python",
   "pygments_lexer": "ipython3",
   "version": "3.11.2"
  }
 },
 "nbformat": 4,
 "nbformat_minor": 5
}
